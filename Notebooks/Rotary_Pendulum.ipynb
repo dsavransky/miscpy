{
 "cells": [
  {
   "cell_type": "markdown",
   "metadata": {},
   "source": [
    "### Preamble Stuff (ignore)"
   ]
  },
  {
   "cell_type": "code",
   "execution_count": 1,
   "metadata": {
    "collapsed": true
   },
   "outputs": [],
   "source": [
    "from sympyhelpers import *\n",
    "init_printing()"
   ]
  },
  {
   "cell_type": "markdown",
   "metadata": {},
   "source": [
    "### Define all the symbols you'll need"
   ]
  },
  {
   "cell_type": "code",
   "execution_count": 2,
   "metadata": {
    "collapsed": false
   },
   "outputs": [],
   "source": [
    "th,psi,thd,psid,R,g,t,l,thdd,phdd,psidd,N1,N2,N3,mr,tau,J  = \\\n",
    "symbols('theta,psi,thetadot,psidot,R,g,t,l,thetaddot,phiddot,psiddot,N_1,N_2,N_3,m_r,tau,J')\n",
    "diffdict = {th:thd,thd:thdd,psi:psid,psid:psidd}"
   ]
  },
  {
   "cell_type": "markdown",
   "metadata": {},
   "source": [
    "### Define rotation matrices and angular velocities for $\\psi$ rotation about $\\mathbf{e}_3$ and $-\\theta$ rotation about $\\mathbf{b}_2$"
   ]
  },
  {
   "cell_type": "code",
   "execution_count": 3,
   "metadata": {
    "collapsed": false
   },
   "outputs": [
    {
     "data": {
      "image/png": "[encoded data removed]",
      "text/latex": [
       "$$\\left ( \\left[\\begin{matrix}\\cos{\\left (\\psi \\right )} & \\sin{\\left (\\psi \\right )} & 0\\\\- \\sin{\\left (\\psi \\right )} & \\cos{\\left (\\psi \\right )} & 0\\\\0 & 0 & 1\\end{matrix}\\right], \\quad \\left[\\begin{matrix}\\cos{\\left (\\theta \\right )} & 0 & \\sin{\\left (\\theta \\right )}\\\\0 & 1 & 0\\\\- \\sin{\\left (\\theta \\right )} & 0 & \\cos{\\left (\\theta \\right )}\\end{matrix}\\right]\\right )$$"
      ],
      "text/plain": [
       "⎛⎡cos(ψ)   sin(ψ)  0⎤, ⎡cos(θ)   0  sin(θ)⎤⎞\n",
       "⎜⎢                  ⎥  ⎢                  ⎥⎟\n",
       "⎜⎢-sin(ψ)  cos(ψ)  0⎥  ⎢   0     1    0   ⎥⎟\n",
       "⎜⎢                  ⎥  ⎢                  ⎥⎟\n",
       "⎝⎣   0       0     1⎦  ⎣-sin(θ)  0  cos(θ)⎦⎠"
      ]
     },
     "execution_count": 3,
     "metadata": {},
     "output_type": "execute_result"
    }
   ],
   "source": [
    "bCi = rotMat(3,psi) # I->B\n",
    "cCb = rotMat(2,-th) # B->C\n",
    "bCi,cCb"
   ]
  },
  {
   "cell_type": "code",
   "execution_count": 4,
   "metadata": {
    "collapsed": true
   },
   "outputs": [],
   "source": [
    "iWb = Matrix([0,0,psid]) #B frame\n",
    "bWc = Matrix([0,-thd,0]) #C frame"
   ]
  },
  {
   "cell_type": "markdown",
   "metadata": {},
   "source": [
    "### Apply Euler's second law to the disk, assuming planar moment of inertia J about $\\mathbf{b}_3$ - all in $\\mathcal{B}$ frame"
   ]
  },
  {
   "cell_type": "code",
   "execution_count": 5,
   "metadata": {
    "collapsed": false
   },
   "outputs": [
    {
     "data": {
      "image/png": "[encoded data removed]",
      "text/latex": [
       "$$\\left ( \\left[\\begin{matrix}0\\\\0\\\\J \\dot{\\psi}\\end{matrix}\\right], \\quad \\left[\\begin{matrix}N_{3} R\\\\0\\\\N_{1} R\\end{matrix}\\right]\\right )$$"
      ],
      "text/plain": [
       "⎛⎡ 0  ⎤, ⎡N₃⋅R⎤⎞\n",
       "⎜⎢    ⎥  ⎢    ⎥⎟\n",
       "⎜⎢ 0  ⎥  ⎢ 0  ⎥⎟\n",
       "⎜⎢    ⎥  ⎢    ⎥⎟\n",
       "⎝⎣J⋅ψ̇⎦  ⎣N₁⋅R⎦⎠"
      ]
     },
     "execution_count": 5,
     "metadata": {},
     "output_type": "execute_result"
    }
   ],
   "source": [
    "h_O = J*iWb; \n",
    "M_O = Matrix([0,R,0]).cross(Matrix([-N1,-N2,N3]));\n",
    "h_O,M_O"
   ]
  },
  {
   "cell_type": "code",
   "execution_count": 6,
   "metadata": {
    "collapsed": false
   },
   "outputs": [
    {
     "data": {
      "image/png": "[encoded data removed]",
      "text/latex": [
       "$$\\left \\{ \\ddot{\\psi} : \\frac{N_{1} R}{J}\\right \\}$$"
      ],
      "text/plain": [
       "⎧    N₁⋅R⎫\n",
       "⎨ψ̈: ────⎬\n",
       "⎩     J  ⎭"
      ]
     },
     "execution_count": 6,
     "metadata": {},
     "output_type": "execute_result"
    }
   ],
   "source": [
    "eom1 = solve(transportEq(h_O,t,diffdict,iWb)-M_O,psidd); eom1"
   ]
  },
  {
   "cell_type": "markdown",
   "metadata": {},
   "source": [
    "### Calculate rod kinematics (of center of mass) - all in the $\\mathcal{B}$ frame"
   ]
  },
  {
   "cell_type": "code",
   "execution_count": 7,
   "metadata": {
    "collapsed": false
   },
   "outputs": [
    {
     "data": {
      "image/png": "[encoded data removed]",
      "text/latex": [
       "$$\\left[\\begin{matrix}- \\frac{l}{2} \\sin{\\left (\\theta \\right )}\\\\R\\\\\\frac{l}{2} \\cos{\\left (\\theta \\right )}\\end{matrix}\\right]$$"
      ],
      "text/plain": [
       "⎡-l⋅sin(θ) ⎤\n",
       "⎢──────────⎥\n",
       "⎢    2     ⎥\n",
       "⎢          ⎥\n",
       "⎢    R     ⎥\n",
       "⎢          ⎥\n",
       "⎢ l⋅cos(θ) ⎥\n",
       "⎢ ──────── ⎥\n",
       "⎣    2     ⎦"
      ]
     },
     "execution_count": 7,
     "metadata": {},
     "output_type": "execute_result"
    }
   ],
   "source": [
    "r_GO = Matrix([0,R,0]) + cCb.T*Matrix([0,0,l/2]); r_GO"
   ]
  },
  {
   "cell_type": "code",
   "execution_count": 8,
   "metadata": {
    "collapsed": false
   },
   "outputs": [
    {
     "data": {
      "image/png": "[encoded data removed]",
      "text/latex": [
       "$$\\left[\\begin{matrix}- R \\dot{\\psi} - \\frac{l \\dot{\\theta}}{2} \\cos{\\left (\\theta \\right )}\\\\- \\frac{l \\dot{\\psi}}{2} \\sin{\\left (\\theta \\right )}\\\\- \\frac{l \\dot{\\theta}}{2} \\sin{\\left (\\theta \\right )}\\end{matrix}\\right]$$"
      ],
      "text/plain": [
       "⎡        l⋅θ̇⋅cos(θ)⎤\n",
       "⎢-R⋅ψ̇ - ───────────⎥\n",
       "⎢             2     ⎥\n",
       "⎢                   ⎥\n",
       "⎢   -l⋅ψ̇⋅sin(θ)    ⎥\n",
       "⎢   ─────────────   ⎥\n",
       "⎢         2         ⎥\n",
       "⎢                   ⎥\n",
       "⎢   -l⋅θ̇⋅sin(θ)    ⎥\n",
       "⎢   ─────────────   ⎥\n",
       "⎣         2         ⎦"
      ]
     },
     "execution_count": 8,
     "metadata": {},
     "output_type": "execute_result"
    }
   ],
   "source": [
    "v_GO = transportEq(r_GO,t,diffdict,iWb)\n",
    "v_GO"
   ]
  },
  {
   "cell_type": "code",
   "execution_count": 9,
   "metadata": {
    "collapsed": false
   },
   "outputs": [
    {
     "data": {
      "image/png": "[encoded data removed]",
      "text/latex": [
       "$$\\left[\\begin{matrix}- R \\ddot{\\psi} + \\frac{l \\dot{\\psi}^{2}}{2} \\sin{\\left (\\theta \\right )} - \\frac{l \\ddot{\\theta}}{2} \\cos{\\left (\\theta \\right )} + \\frac{l \\dot{\\theta}^{2}}{2} \\sin{\\left (\\theta \\right )}\\\\- R \\dot{\\psi}^{2} - \\frac{l \\ddot{\\psi}}{2} \\sin{\\left (\\theta \\right )} - l \\dot{\\psi} \\dot{\\theta} \\cos{\\left (\\theta \\right )}\\\\- \\frac{l}{2} \\left(\\ddot{\\theta} \\sin{\\left (\\theta \\right )} + \\dot{\\theta}^{2} \\cos{\\left (\\theta \\right )}\\right)\\end{matrix}\\right]$$"
      ],
      "text/plain": [
       "⎡            2                            2       ⎤\n",
       "⎢        l⋅ψ̇ ⋅sin(θ)   l⋅θ̈⋅cos(θ)   l⋅θ̇ ⋅sin(θ)⎥\n",
       "⎢-R⋅ψ̈ + ──────────── - ─────────── + ────────────⎥\n",
       "⎢             2              2             2      ⎥\n",
       "⎢                                                 ⎥\n",
       "⎢           2   l⋅ψ̈⋅sin(θ)                       ⎥\n",
       "⎢     - R⋅ψ̇  - ─────────── - l⋅ψ̇⋅θ̇⋅cos(θ)      ⎥\n",
       "⎢                    2                            ⎥\n",
       "⎢                                                 ⎥\n",
       "⎢             ⎛              2       ⎞            ⎥\n",
       "⎢          -l⋅⎝θ̈⋅sin(θ) + θ̇ ⋅cos(θ)⎠            ⎥\n",
       "⎢          ────────────────────────────           ⎥\n",
       "⎣                       2                         ⎦"
      ]
     },
     "execution_count": 9,
     "metadata": {},
     "output_type": "execute_result"
    }
   ],
   "source": [
    "a_GO = transportEq(v_GO,t,diffdict,iWb);\n",
    "simplify(a_GO)"
   ]
  },
  {
   "cell_type": "markdown",
   "metadata": {},
   "source": [
    "### Solve for normal forces by applying Euler's first law to rod COM"
   ]
  },
  {
   "cell_type": "code",
   "execution_count": 10,
   "metadata": {
    "collapsed": false
   },
   "outputs": [
    {
     "data": {
      "image/png": "[encoded data removed]",
      "text/latex": [
       "$$\\left \\{ N_{1} : \\frac{m_{r}}{2} \\left(- 2 R \\ddot{\\psi} + l \\dot{\\psi}^{2} \\sin{\\left (\\theta \\right )} - l \\ddot{\\theta} \\cos{\\left (\\theta \\right )} + l \\dot{\\theta}^{2} \\sin{\\left (\\theta \\right )}\\right), \\quad N_{2} : - \\frac{m_{r}}{2} \\left(2 R \\dot{\\psi}^{2} + l \\ddot{\\psi} \\sin{\\left (\\theta \\right )} + 2 l \\dot{\\psi} \\dot{\\theta} \\cos{\\left (\\theta \\right )}\\right), \\quad N_{3} : \\frac{m_{r}}{2} \\left(2 g + l \\ddot{\\theta} \\sin{\\left (\\theta \\right )} + l \\dot{\\theta}^{2} \\cos{\\left (\\theta \\right )}\\right)\\right \\}$$"
      ],
      "text/plain": [
       "⎧       ⎛              2                            2       ⎞          ⎛      \n",
       "⎪    mᵣ⋅⎝-2⋅R⋅ψ̈ + l⋅ψ̇ ⋅sin(θ) - l⋅θ̈⋅cos(θ) + l⋅θ̇ ⋅sin(θ)⎠      -mᵣ⋅⎝2⋅R⋅ψ̇\n",
       "⎨N₁: ────────────────────────────────────────────────────────, N₂: ───────────\n",
       "⎪                               2                                             \n",
       "⎩                                                                             \n",
       "\n",
       "2                                 ⎞          ⎛                        2       \n",
       "  + l⋅ψ̈⋅sin(θ) + 2⋅l⋅ψ̇⋅θ̇⋅cos(θ)⎠       mᵣ⋅⎝2⋅g + l⋅θ̈⋅sin(θ) + l⋅θ̇ ⋅cos(θ)\n",
       "────────────────────────────────────, N₃: ────────────────────────────────────\n",
       "            2                                               2                 \n",
       "                                                                              \n",
       "\n",
       "⎞⎫\n",
       "⎠⎪\n",
       "─⎬\n",
       " ⎪\n",
       " ⎭"
      ]
     },
     "execution_count": 10,
     "metadata": {},
     "output_type": "execute_result"
    }
   ],
   "source": [
    "Ns = solve(mr*a_GO - Matrix([N1,N2,mr*g-N3]),(N1,N2,N3));Ns"
   ]
  },
  {
   "cell_type": "markdown",
   "metadata": {},
   "source": [
    "### Parallel axis theorem to get MOI matrix for the rod about $Q$"
   ]
  },
  {
   "cell_type": "code",
   "execution_count": 11,
   "metadata": {
    "collapsed": false
   },
   "outputs": [
    {
     "data": {
      "image/png": "[encoded data removed]",
      "text/latex": [
       "$$\\left[\\begin{matrix}\\frac{l^{2} m_{r}}{3} & 0 & 0\\\\0 & \\frac{l^{2} m_{r}}{3} & 0\\\\0 & 0 & 0\\end{matrix}\\right]$$"
      ],
      "text/plain": [
       "⎡ 2             ⎤\n",
       "⎢l ⋅mᵣ          ⎥\n",
       "⎢─────    0    0⎥\n",
       "⎢  3            ⎥\n",
       "⎢               ⎥\n",
       "⎢        2      ⎥\n",
       "⎢       l ⋅mᵣ   ⎥\n",
       "⎢  0    ─────  0⎥\n",
       "⎢         3     ⎥\n",
       "⎢               ⎥\n",
       "⎣  0      0    0⎦"
      ]
     },
     "execution_count": 11,
     "metadata": {},
     "output_type": "execute_result"
    }
   ],
   "source": [
    "r_QG = Matrix([0,0,-l/2])\n",
    "I_Q = mr*l**2/12*(eye(3) - diag(0,0,1)) + mr*((r_QG.transpose()*r_QG)[0]*eye(3) - r_QG*r_QG.transpose())\n",
    "I_Q"
   ]
  },
  {
   "cell_type": "markdown",
   "metadata": {},
   "source": [
    "### Calculate angular velocity and momentum about $Q$ in $\\mathcal C$ frame components"
   ]
  },
  {
   "cell_type": "code",
   "execution_count": 12,
   "metadata": {
    "collapsed": false
   },
   "outputs": [
    {
     "data": {
      "image/png": "[encoded data removed]",
      "text/latex": [
       "$$\\left ( \\left[\\begin{matrix}\\dot{\\psi} \\sin{\\left (\\theta \\right )}\\\\- \\dot{\\theta}\\\\\\dot{\\psi} \\cos{\\left (\\theta \\right )}\\end{matrix}\\right], \\quad \\left[\\begin{matrix}\\frac{m_{r} \\dot{\\psi}}{3} l^{2} \\sin{\\left (\\theta \\right )}\\\\- \\frac{m_{r} \\dot{\\theta}}{3} l^{2}\\\\0\\end{matrix}\\right]\\right )$$"
      ],
      "text/plain": [
       "⎛             ⎡ 2             ⎤⎞\n",
       "⎜             ⎢l ⋅mᵣ⋅ψ̇⋅sin(θ)⎥⎟\n",
       "⎜⎡ψ̇⋅sin(θ)⎤, ⎢───────────────⎥⎟\n",
       "⎜⎢         ⎥  ⎢       3       ⎥⎟\n",
       "⎜⎢   -θ̇   ⎥  ⎢               ⎥⎟\n",
       "⎜⎢         ⎥  ⎢    2          ⎥⎟\n",
       "⎜⎣ψ̇⋅cos(θ)⎦  ⎢  -l ⋅mᵣ⋅θ̇    ⎥⎟\n",
       "⎜             ⎢  ──────────   ⎥⎟\n",
       "⎜             ⎢      3        ⎥⎟\n",
       "⎜             ⎢               ⎥⎟\n",
       "⎝             ⎣       0       ⎦⎠"
      ]
     },
     "execution_count": 12,
     "metadata": {},
     "output_type": "execute_result"
    }
   ],
   "source": [
    "iWc = bWc + cCb*iWb\n",
    "h_Q = I_Q*iWc\n",
    "iWc,h_Q"
   ]
  },
  {
   "cell_type": "markdown",
   "metadata": {},
   "source": [
    "### Now apply Euler's second law for rod about $Q$ (all in $\\mathcal C$ frame)"
   ]
  },
  {
   "cell_type": "code",
   "execution_count": 13,
   "metadata": {
    "collapsed": false
   },
   "outputs": [
    {
     "data": {
      "image/png": "[encoded data removed]",
      "text/latex": [
       "$$\\left ( \\left[\\begin{matrix}\\frac{m_{r} \\ddot{\\psi}}{3} l^{2} \\sin{\\left (\\theta \\right )} + \\frac{2 m_{r}}{3} l^{2} \\dot{\\psi} \\dot{\\theta} \\cos{\\left (\\theta \\right )}\\\\\\frac{l^{2} m_{r}}{3} \\dot{\\psi}^{2} \\sin{\\left (\\theta \\right )} \\cos{\\left (\\theta \\right )} - \\frac{m_{r} \\ddot{\\theta}}{3} l^{2}\\\\0\\end{matrix}\\right], \\quad \\left[\\begin{matrix}\\tau\\\\\\frac{g l}{2} m_{r} \\sin{\\left (\\theta \\right )}\\\\0\\end{matrix}\\right], \\quad \\left[\\begin{matrix}- R \\ddot{\\psi} \\cos{\\left (\\theta \\right )}\\\\- R \\dot{\\psi}^{2}\\\\R \\ddot{\\psi} \\sin{\\left (\\theta \\right )}\\end{matrix}\\right]\\right )$$"
      ],
      "text/plain": [
       "⎛⎡ 2                   2                ⎤                                 ⎞\n",
       "⎜⎢l ⋅mᵣ⋅ψ̈⋅sin(θ)   2⋅l ⋅mᵣ⋅ψ̇⋅θ̇⋅cos(θ)⎥                                 ⎟\n",
       "⎜⎢─────────────── + ────────────────────⎥, ⎡      τ      ⎤, ⎡-R⋅ψ̈⋅cos(θ)⎤⎟\n",
       "⎜⎢       3                   3          ⎥  ⎢             ⎥  ⎢            ⎥⎟\n",
       "⎜⎢                                      ⎥  ⎢g⋅l⋅mᵣ⋅sin(θ)⎥  ⎢        2   ⎥⎟\n",
       "⎜⎢   2      2                  2        ⎥  ⎢─────────────⎥  ⎢   -R⋅ψ̇    ⎥⎟\n",
       "⎜⎢  l ⋅mᵣ⋅ψ̇ ⋅sin(θ)⋅cos(θ)   l ⋅mᵣ⋅θ̈  ⎥  ⎢      2      ⎥  ⎢            ⎥⎟\n",
       "⎜⎢  ─────────────────────── - ────────  ⎥  ⎢             ⎥  ⎣R⋅ψ̈⋅sin(θ) ⎦⎟\n",
       "⎜⎢             3                 3      ⎥  ⎣      0      ⎦                ⎟\n",
       "⎜⎢                                      ⎥                                 ⎟\n",
       "⎝⎣                  0                   ⎦                                 ⎠"
      ]
     },
     "execution_count": 13,
     "metadata": {},
     "output_type": "execute_result"
    }
   ],
   "source": [
    "dh_Q = transportEq(h_Q,t,diffdict,iWc)\n",
    "M_Q = Matrix([tau,mr*g*l/2*sin(th),0])\n",
    "r_QO = cCb*Matrix([0,R,0])\n",
    "a_QO = simplify(transportEq(transportEq(r_QO,t,diffdict,iWc),t,diffdict,iWc))\n",
    "dh_Q,M_Q,a_QO"
   ]
  },
  {
   "cell_type": "code",
   "execution_count": 14,
   "metadata": {
    "collapsed": false
   },
   "outputs": [
    {
     "data": {
      "image/png": "[encoded data removed]",
      "text/latex": [
       "$$\\left \\{ \\ddot{\\theta} : \\frac{1}{2 l} \\left(- 3 R \\ddot{\\psi} \\cos{\\left (\\theta \\right )} - 3 g \\sin{\\left (\\theta \\right )} + l \\dot{\\psi}^{2} \\sin{\\left (2 \\theta \\right )}\\right)\\right \\}$$"
      ],
      "text/plain": [
       "⎧                                      2         ⎫\n",
       "⎪    -3⋅R⋅ψ̈⋅cos(θ) - 3⋅g⋅sin(θ) + l⋅ψ̇ ⋅sin(2⋅θ)⎪\n",
       "⎨θ̈: ────────────────────────────────────────────⎬\n",
       "⎪                        2⋅l                     ⎪\n",
       "⎩                                                ⎭"
      ]
     },
     "execution_count": 14,
     "metadata": {},
     "output_type": "execute_result"
    }
   ],
   "source": [
    "r_QG = Matrix([0,0,-l/2])\n",
    "eom2 = solve(dh_Q - (M_Q + mr*r_QG.cross(a_QO)),thdd)\n",
    "eom2"
   ]
  },
  {
   "cell_type": "markdown",
   "metadata": {},
   "source": [
    "### Finally, combine the solutions to the disk and rod motions for the full equations of motion"
   ]
  },
  {
   "cell_type": "code",
   "execution_count": 15,
   "metadata": {
    "collapsed": false
   },
   "outputs": [
    {
     "data": {
      "image/png": "[encoded data removed]",
      "text/latex": [
       "$$\\left \\{ \\ddot{\\psi} : \\frac{R m_{r} \\left(3 g \\cos{\\left (\\theta \\right )} + 2 l \\dot{\\psi}^{2} \\sin^{2}{\\left (\\theta \\right )} + 2 l \\dot{\\theta}^{2}\\right) \\sin{\\left (\\theta \\right )}}{4 J + 3 R^{2} m_{r} \\sin^{2}{\\left (\\theta \\right )} + R^{2} m_{r}}, \\quad \\ddot{\\theta} : - \\frac{1}{l \\left(4 J + 3 R^{2} m_{r} \\sin^{2}{\\left (\\theta \\right )} + R^{2} m_{r}\\right)} \\left(\\frac{3 l}{2} R^{2} m_{r} \\left(\\dot{\\psi}^{2} + \\dot{\\theta}^{2}\\right) \\sin{\\left (2 \\theta \\right )} + 2 \\left(J + R^{2} m_{r}\\right) \\left(3 g - 2 l \\dot{\\psi}^{2} \\cos{\\left (\\theta \\right )}\\right) \\sin{\\left (\\theta \\right )}\\right)\\right \\}$$"
      ],
      "text/plain": [
       "⎧                                                               ⎛   2      ⎛  \n",
       "⎪                                                               ⎜3⋅R ⋅l⋅mᵣ⋅⎝ψ̇\n",
       "⎪         ⎛                   2    2            2⎞             -⎜─────────────\n",
       "⎨    R⋅mᵣ⋅⎝3⋅g⋅cos(θ) + 2⋅l⋅ψ̇ ⋅sin (θ) + 2⋅l⋅θ̇ ⎠⋅sin(θ)       ⎝             \n",
       "⎪ψ̈: ────────────────────────────────────────────────────, θ̈: ───────────────\n",
       "⎪                        2       2       2                                    \n",
       "⎩               4⋅J + 3⋅R ⋅mᵣ⋅sin (θ) + R ⋅mᵣ                                 \n",
       "\n",
       "2     2⎞                                                       ⎞ ⎫\n",
       "  + θ̇ ⎠⋅sin(2⋅θ)     ⎛     2   ⎞ ⎛            2       ⎞       ⎟ ⎪\n",
       "───────────────── + 2⋅⎝J + R ⋅mᵣ⎠⋅⎝3⋅g - 2⋅l⋅ψ̇ ⋅cos(θ)⎠⋅sin(θ)⎟ ⎪\n",
       " 2                                                             ⎠ ⎬\n",
       "─────────────────────────────────────────────────────────────────⎪\n",
       "          ⎛         2       2       2   ⎞                        ⎪\n",
       "        l⋅⎝4⋅J + 3⋅R ⋅mᵣ⋅sin (θ) + R ⋅mᵣ⎠                        ⎭"
      ]
     },
     "execution_count": 15,
     "metadata": {},
     "output_type": "execute_result"
    }
   ],
   "source": [
    "simplify(solve([thdd - eom2[thdd],psidd - eom1[psidd].subs(N1,Ns[N1])],(psidd,thdd)))"
   ]
  }
 ],
 "metadata": {
  "kernelspec": {
   "display_name": "Python 2",
   "language": "python",
   "name": "python2"
  },
  "language_info": {
   "codemirror_mode": {
    "name": "ipython",
    "version": 2
   },
   "file_extension": ".py",
   "mimetype": "text/x-python",
   "name": "python",
   "nbconvert_exporter": "python",
   "pygments_lexer": "ipython2",
   "version": "2.7.11"
  }
 },
 "nbformat": 4,
 "nbformat_minor": 0
}
