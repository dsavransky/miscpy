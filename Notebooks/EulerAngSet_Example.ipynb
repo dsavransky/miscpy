{
 "cells": [
  {
   "cell_type": "code",
   "execution_count": 1,
   "id": "020807be-b6f6-47ca-a2e3-73e1a7374e05",
   "metadata": {},
   "outputs": [],
   "source": [
    "from miscpy.utils.sympyhelpers import EulerAngSet"
   ]
  },
  {
   "cell_type": "code",
   "execution_count": 2,
   "id": "10c00f39-acc9-4328-9477-ece47f7e98a9",
   "metadata": {},
   "outputs": [
    {
     "ename": "NameError",
     "evalue": "name 'symbols' is not defined",
     "output_type": "error",
     "traceback": [
      "\u001b[0;31m---------------------------------------------------------------------------\u001b[0m",
      "\u001b[0;31mNameError\u001b[0m                                 Traceback (most recent call last)",
      "Cell \u001b[0;32mIn[2], line 1\u001b[0m\n\u001b[0;32m----> 1\u001b[0m th1, th2, th3 \u001b[38;5;241m=\u001b[39m \u001b[43msymbols\u001b[49m(\u001b[38;5;124m\"\u001b[39m\u001b[38;5;124mtheta_1, theta_2, theta_3\u001b[39m\u001b[38;5;124m\"\u001b[39m)\n",
      "\u001b[0;31mNameError\u001b[0m: name 'symbols' is not defined"
     ]
    }
   ],
   "source": [
    "th1, th2, th3 = symbols(\"theta_1, theta_2, theta_3\")"
   ]
  },
  {
   "cell_type": "code",
   "execution_count": null,
   "id": "457ce7bf-7ecc-4d07-97ca-f93e52a7fe1d",
   "metadata": {},
   "outputs": [],
   "source": [
    "EulerAngSet([1,2,3], [th1,th2,th3])"
   ]
  },
  {
   "cell_type": "code",
   "execution_count": null,
   "id": "8a9524f6-49fa-44ac-a678-120d619f0eb0",
   "metadata": {},
   "outputs": [],
   "source": []
  }
 ],
 "metadata": {
  "kernelspec": {
   "display_name": "Python 3 (ipykernel)",
   "language": "python",
   "name": "python3"
  },
  "language_info": {
   "codemirror_mode": {
    "name": "ipython",
    "version": 3
   },
   "file_extension": ".py",
   "mimetype": "text/x-python",
   "name": "python",
   "nbconvert_exporter": "python",
   "pygments_lexer": "ipython3",
   "version": "3.11.6"
  }
 },
 "nbformat": 4,
 "nbformat_minor": 5
}
