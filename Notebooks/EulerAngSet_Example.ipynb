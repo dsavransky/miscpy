{
 "cells": [
  {
   "cell_type": "code",
   "execution_count": 1,
   "id": "020807be-b6f6-47ca-a2e3-73e1a7374e05",
   "metadata": {},
   "outputs": [],
   "source": [
    "from miscpy.utils.sympyhelpers import EulerAngSet, symbols"
   ]
  },
  {
   "cell_type": "code",
   "execution_count": 2,
   "id": "10c00f39-acc9-4328-9477-ece47f7e98a9",
   "metadata": {},
   "outputs": [],
   "source": [
    "th1, th2, th3 = symbols(\"theta_1, theta_2, theta_3\")"
   ]
  },
  {
   "cell_type": "code",
   "execution_count": 3,
   "id": "457ce7bf-7ecc-4d07-97ca-f93e52a7fe1d",
   "metadata": {},
   "outputs": [
    {
     "data": {
      "text/latex": [
       "$\\displaystyle \\left[\\begin{matrix}\\cos{\\left(\\theta_{2} \\right)} \\cos{\\left(\\theta_{3} \\right)} & \\sin{\\left(\\theta_{1} \\right)} \\sin{\\left(\\theta_{2} \\right)} \\cos{\\left(\\theta_{3} \\right)} + \\sin{\\left(\\theta_{3} \\right)} \\cos{\\left(\\theta_{1} \\right)} & \\sin{\\left(\\theta_{1} \\right)} \\sin{\\left(\\theta_{3} \\right)} - \\sin{\\left(\\theta_{2} \\right)} \\cos{\\left(\\theta_{1} \\right)} \\cos{\\left(\\theta_{3} \\right)}\\\\- \\sin{\\left(\\theta_{3} \\right)} \\cos{\\left(\\theta_{2} \\right)} & - \\sin{\\left(\\theta_{1} \\right)} \\sin{\\left(\\theta_{2} \\right)} \\sin{\\left(\\theta_{3} \\right)} + \\cos{\\left(\\theta_{1} \\right)} \\cos{\\left(\\theta_{3} \\right)} & \\sin{\\left(\\theta_{1} \\right)} \\cos{\\left(\\theta_{3} \\right)} + \\sin{\\left(\\theta_{2} \\right)} \\sin{\\left(\\theta_{3} \\right)} \\cos{\\left(\\theta_{1} \\right)}\\\\\\sin{\\left(\\theta_{2} \\right)} & - \\sin{\\left(\\theta_{1} \\right)} \\cos{\\left(\\theta_{2} \\right)} & \\cos{\\left(\\theta_{1} \\right)} \\cos{\\left(\\theta_{2} \\right)}\\end{matrix}\\right]$"
      ],
      "text/plain": [
       "Matrix([\n",
       "[ cos(theta_2)*cos(theta_3),  sin(theta_1)*sin(theta_2)*cos(theta_3) + sin(theta_3)*cos(theta_1), sin(theta_1)*sin(theta_3) - sin(theta_2)*cos(theta_1)*cos(theta_3)],\n",
       "[-sin(theta_3)*cos(theta_2), -sin(theta_1)*sin(theta_2)*sin(theta_3) + cos(theta_1)*cos(theta_3), sin(theta_1)*cos(theta_3) + sin(theta_2)*sin(theta_3)*cos(theta_1)],\n",
       "[              sin(theta_2),                                          -sin(theta_1)*cos(theta_2),                                          cos(theta_1)*cos(theta_2)]])"
      ]
     },
     "execution_count": 3,
     "metadata": {},
     "output_type": "execute_result"
    }
   ],
   "source": [
    "EulerAngSet([1,2,3], [th1,th2,th3])"
   ]
  },
  {
   "cell_type": "code",
   "execution_count": null,
   "id": "8a9524f6-49fa-44ac-a678-120d619f0eb0",
   "metadata": {},
   "outputs": [],
   "source": []
  }
 ],
 "metadata": {
  "kernelspec": {
   "display_name": "Python 3 (ipykernel)",
   "language": "python",
   "name": "python3"
  },
  "language_info": {
   "codemirror_mode": {
    "name": "ipython",
    "version": 3
   },
   "file_extension": ".py",
   "mimetype": "text/x-python",
   "name": "python",
   "nbconvert_exporter": "python",
   "pygments_lexer": "ipython3",
   "version": "3.11.6"
  }
 },
 "nbformat": 4,
 "nbformat_minor": 5
}
